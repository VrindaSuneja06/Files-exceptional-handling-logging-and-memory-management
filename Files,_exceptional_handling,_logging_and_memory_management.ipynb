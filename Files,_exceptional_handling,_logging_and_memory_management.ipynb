{
  "nbformat": 4,
  "nbformat_minor": 0,
  "metadata": {
    "colab": {
      "provenance": []
    },
    "kernelspec": {
      "name": "python3",
      "display_name": "Python 3"
    },
    "language_info": {
      "name": "python"
    }
  },
  "cells": [
    {
      "cell_type": "markdown",
      "source": [
        "**THEORY:**"
      ],
      "metadata": {
        "id": "2Z4wYUbJWFlg"
      }
    },
    {
      "cell_type": "markdown",
      "source": [
        "1.What is the difference between interpreted and compiled languages?\n",
        "Interpreted languages execute code line by line, making them slower but easier to debug e.g., Python. Compiled languages convert the entire code into machine language before execution, making them faster e.g., C, Java.\n",
        "\n",
        "2.What is exception handling in Python?\n",
        "Exception handling helps prevent program crashes by managing errors. It uses try to test code, except to catch errors, finally for cleanup, and else for code execution when no exception occurs.\n",
        "\n",
        "3.What is the purpose of the finally block in exception handling?\n",
        "The finally block ensures that specific code runs no matter what, even if an exception occurs. It is useful for resource cleanup like closing files or releasing memory.\n",
        "\n",
        "4.What is logging in Python?\n",
        "Logging is used to record program events, errors, or debugging information. The logging module helps developers track issues by saving logs to files or displaying them in the console.\n",
        "\n",
        "5.What is the significance of the __del__ method in Python?\n",
        "The __del__ method is a destructor in Python that is called automatically when an object is deleted or goes out of scope, helping in resource cleanup.\n",
        "\n",
        "6 What is the difference between import and from ... import in Python?\n",
        "import module brings in the entire module, requiring module.function() calls. from module import function imports only a specific function, allowing direct use without prefixing the module name.\n",
        "\n",
        "7.How can you handle multiple exceptions in Python?\n",
        "Multiple exceptions can be handled using multiple except blocks or by catching multiple exceptions in a single except block using tuples, e.g., except (TypeError, ValueError):.\n",
        "\n",
        "8.What is the purpose of the with statement when handling files in Python?\n",
        "The with statement ensures that files are properly opened and closed automatically, even if an error occurs. It prevents memory leaks and improves code readability.\n",
        "\n",
        "9.What is the difference between multithreading and multiprocessing?\n",
        "Multithreading runs multiple threads within a process, sharing the same memory. Multiprocessing runs separate processes, each with its own memory, making it better for CPU-intensive tasks.\n",
        "\n",
        "10.What are the advantages of using logging in a program?\n",
        "Logging helps in debugging, monitoring program execution, tracking errors, and maintaining records of events. It improves software reliability and makes troubleshooting easier.\n",
        "\n",
        "11.What is memory management in Python?\n",
        "Memory management in Python involves automatic memory allocation and deallocation using garbage collection, reference counting, and a memory manager to optimize performance.\n",
        "\n",
        "12 What are the basic steps involved in exception handling in Python?\n",
        "Use try to write the code that may cause an exception.\n",
        "Use except to handle the exception.\n",
        "Use else to execute code if no exception occurs.\n",
        "Use finally to execute cleanup code.\n",
        "\n",
        "13.Why is memory management important in Python?\n",
        "Efficient memory management prevents memory leaks, optimizes performance, and ensures smooth program execution. Python’s garbage collector helps manage memory automatically.\n",
        "\n",
        "14 What is the role of try and except in exception handling?\n",
        "The try block contains code that may cause an exception. The except block catches and handles the error, preventing the program from crashing.\n",
        "\n",
        "15.How does Python's garbage collection system work?\n",
        "Python’s garbage collector automatically removes unused objects from memory using reference counting and cyclic garbage collection, freeing up space and improving performance.\n",
        "\n",
        "16.What is the purpose of the else block in exception handling?\n",
        "The else block runs only if no exceptions occur in the try block, helping in writing clean and structured error-handling code.\n",
        "\n",
        "17.What are the common logging levels in Python?\n",
        "DEBUG – Detailed information for debugging.\n",
        "INFO – General program execution messages.\n",
        "WARNING – Potential issues.\n",
        "ERROR – Program errors.\n",
        "CRITICAL – Severe errors that may stop the program.\n",
        "\n",
        "18 What is the difference between os.fork() and multiprocessing in Python?\n",
        "os.fork() creates a child process in Unix-based systems, while multiprocessing works cross-platform and manages processes more efficiently using the Process class.\n",
        "\n",
        "19.What is the importance of closing a file in Python?\n",
        "Closing a file frees up system resources, prevents data corruption, and ensures that all written data is properly saved to the file.\n",
        "\n",
        "20.What is the difference between file.read() and file.readline() in Python?\n",
        "file.read() reads the entire file content at once.\n",
        "\n",
        "21.What is the logging module in Python used for?\n",
        "The logging module is used to track events in a program, log errors, debug issues, and save log messages to files or the console.\n",
        "\n",
        "22.What is the os module in Python used for in file handling?\n",
        "The os module provides functions to interact with the operating system, such as handling file paths, creating or deleting files, and working with directories.\n",
        "\n",
        "23.What are the challenges associated with memory management in Python?\n",
        "Challenges include garbage collection overhead, memory fragmentation, reference cycles, and excessive memory usage in large applications.\n",
        "\n",
        "24 How do you raise an exception manually in Python?\n",
        "Use the raise keyword, e.g., raise ValueError(\"Invalid input\"), to manually trigger an exception.\n",
        "\n",
        "25.Why is it important to use multithreading in certain applications?\n",
        "Multithreading improves performance in I/O-bound tasks like file handling and networking by running multiple threads concurrently, making the application more responsive.\n",
        "\n",
        "\n",
        "\n",
        "\n",
        "\n",
        "\n",
        "\n",
        "\n"
      ],
      "metadata": {
        "id": "QOUCzydyWJsQ"
      }
    },
    {
      "cell_type": "markdown",
      "source": [
        "**PRACTICAL**"
      ],
      "metadata": {
        "id": "CWpUQnsucgaT"
      }
    },
    {
      "cell_type": "code",
      "source": [
        "\n",
        "# 1 Open a file for writing and write a string\n",
        "with open(\"example.txt\", \"w\") as file:\n",
        "    file.write(\"Hello, this is VRINDA.\")\n",
        "\n"
      ],
      "metadata": {
        "id": "uS8RsP_cckeS"
      },
      "execution_count": 4,
      "outputs": []
    },
    {
      "cell_type": "code",
      "source": [
        "# 2. Read contents of a file and print each line\n",
        "with open(\"example.txt\", \"r\") as file:\n",
        "    for line in file:\n",
        "        print(line.strip())"
      ],
      "metadata": {
        "colab": {
          "base_uri": "https://localhost:8080/"
        },
        "id": "PwNzBnTOe6Tt",
        "outputId": "29a38ca2-d829-488e-b188-309ab57d90a7"
      },
      "execution_count": 5,
      "outputs": [
        {
          "output_type": "stream",
          "name": "stdout",
          "text": [
            "Hello, this is VRINDA.\n"
          ]
        }
      ]
    },
    {
      "cell_type": "code",
      "source": [
        "# 3 Handle case where file doesn't exist\n",
        "try:\n",
        "    with open(\"non_existent.txt\", \"r\") as file:\n",
        "        print(file.read())\n",
        "except FileNotFoundError:\n",
        "    print(\"File not found!\")"
      ],
      "metadata": {
        "colab": {
          "base_uri": "https://localhost:8080/"
        },
        "id": "TLaQxeFme7Ts",
        "outputId": "4741aec5-8237-478d-9667-a35c010cf460"
      },
      "execution_count": 6,
      "outputs": [
        {
          "output_type": "stream",
          "name": "stdout",
          "text": [
            "File not found!\n"
          ]
        }
      ]
    },
    {
      "cell_type": "code",
      "source": [
        "# 4. Read from one file and write to another\n",
        "with open(\"example.txt\", \"r\") as source, open(\"destination.txt\", \"w\") as dest:\n",
        "    dest.write(source.read())\n"
      ],
      "metadata": {
        "id": "jSU3LtlQe7v-"
      },
      "execution_count": 10,
      "outputs": []
    },
    {
      "cell_type": "code",
      "source": [
        "# 5. Handle division by zero error\n",
        "try:\n",
        "    result = 1000 / 0\n",
        "except ZeroDivisionError:\n",
        "    print(\"Cannot divide by zero!. It is not possible.\")\n"
      ],
      "metadata": {
        "colab": {
          "base_uri": "https://localhost:8080/"
        },
        "id": "d_QE9nETe77z",
        "outputId": "7d1703d5-7a83-44cc-aaaf-a8bd3a5fa52a"
      },
      "execution_count": 13,
      "outputs": [
        {
          "output_type": "stream",
          "name": "stdout",
          "text": [
            "Cannot divide by zero!. It is not possible.\n"
          ]
        }
      ]
    },
    {
      "cell_type": "code",
      "source": [
        "# 6. Log an error message for division by zero\n",
        "import logging\n",
        "logging.basicConfig(filename=\"error.log\", level=logging.ERROR)\n",
        "try:\n",
        "    result = 10 / 0\n",
        "except ZeroDivisionError as e:\n",
        "    logging.error(\"Division by zero error: %s\", str(e))"
      ],
      "metadata": {
        "colab": {
          "base_uri": "https://localhost:8080/"
        },
        "id": "CqQI_Oz0e8Gx",
        "outputId": "70a7c8f0-5e96-4e58-b18f-3d4e9fd912be"
      },
      "execution_count": 14,
      "outputs": [
        {
          "output_type": "stream",
          "name": "stderr",
          "text": [
            "ERROR:root:Division by zero error: division by zero\n"
          ]
        }
      ]
    },
    {
      "cell_type": "code",
      "source": [
        "# 7. Log at different levels\n",
        "logging.basicConfig(level=logging.DEBUG)\n",
        "logging.info(\"This is an INFO message\")\n",
        "logging.warning(\"This is a WARNING message\")\n",
        "logging.error(\"This is an ERROR message\")"
      ],
      "metadata": {
        "colab": {
          "base_uri": "https://localhost:8080/"
        },
        "id": "itrb09kUe8QD",
        "outputId": "15c65357-131c-46f9-fb2c-c4f07dc90087"
      },
      "execution_count": 15,
      "outputs": [
        {
          "output_type": "stream",
          "name": "stderr",
          "text": [
            "WARNING:root:This is a WARNING message\n",
            "ERROR:root:This is an ERROR message\n"
          ]
        }
      ]
    },
    {
      "cell_type": "code",
      "source": [
        "# 8. Handle file opening error\n",
        "try:\n",
        "    with open(\"missing_file.txt\", \"r\") as file:\n",
        "        print(file.read())\n",
        "except FileNotFoundError:\n",
        "    print(\"Error: File not found!\")\n"
      ],
      "metadata": {
        "colab": {
          "base_uri": "https://localhost:8080/"
        },
        "id": "I4ryppU_e8WS",
        "outputId": "4fc5ee19-7838-416d-9987-0d3790be45a5"
      },
      "execution_count": 16,
      "outputs": [
        {
          "output_type": "stream",
          "name": "stdout",
          "text": [
            "Error: File not found!\n"
          ]
        }
      ]
    },
    {
      "cell_type": "code",
      "source": [
        "# 9. Read a file line by line into a list\n",
        "with open(\"example.txt\", \"r\") as file:\n",
        "    lines = file.readlines()\n",
        "print(lines)"
      ],
      "metadata": {
        "colab": {
          "base_uri": "https://localhost:8080/"
        },
        "id": "HRi4shZGe8fh",
        "outputId": "1e633fc6-ef85-43cc-8ae7-9dac8c79371e"
      },
      "execution_count": 17,
      "outputs": [
        {
          "output_type": "stream",
          "name": "stdout",
          "text": [
            "['Hello, this is VRINDA.']\n"
          ]
        }
      ]
    },
    {
      "cell_type": "code",
      "source": [
        "# 10. Append data to an existing file\n",
        "with open(\"example.txt\", \"a\") as file:\n",
        "    file.write(\"\\nVRINDA.\")\n"
      ],
      "metadata": {
        "id": "oA1fNS2Le8k4"
      },
      "execution_count": 20,
      "outputs": []
    },
    {
      "cell_type": "code",
      "source": [
        "# 11 Handle missing dictionary key error\n",
        "my_dict = {\"name\": \"VRINDA\"}\n",
        "try:\n",
        "    print(my_dict[\"age\"])\n",
        "except KeyError:\n",
        "    print(\"Key does not exist!\")"
      ],
      "metadata": {
        "colab": {
          "base_uri": "https://localhost:8080/"
        },
        "id": "EvJ_QJXie8qK",
        "outputId": "1ca0571c-a4a0-4f5d-a217-afd085393d2c"
      },
      "execution_count": 21,
      "outputs": [
        {
          "output_type": "stream",
          "name": "stdout",
          "text": [
            "Key does not exist!\n"
          ]
        }
      ]
    },
    {
      "cell_type": "code",
      "source": [
        "# 12. Multiple except blocks for different exceptions\n",
        "try:\n",
        "    num = int(\"VRINDA\")\n",
        "    result = 1000 / 0\n",
        "except ValueError:\n",
        "    print(\"Invalid number!\")\n",
        "except ZeroDivisionError:\n",
        "    print(\"Cannot divide by zero!\")"
      ],
      "metadata": {
        "colab": {
          "base_uri": "https://localhost:8080/"
        },
        "id": "P-p5iTC8gY3T",
        "outputId": "57931213-ea20-47ad-e242-ff3401460387"
      },
      "execution_count": 22,
      "outputs": [
        {
          "output_type": "stream",
          "name": "stdout",
          "text": [
            "Invalid number!\n"
          ]
        }
      ]
    },
    {
      "cell_type": "code",
      "source": [
        "# 13.Check if file exists before reading\n",
        "import os\n",
        "if os.path.exists(\"example.txt\"):\n",
        "    with open(\"example.txt\", \"r\") as file:\n",
        "        print(file.read())\n",
        "else:\n",
        "    print(\"File does not exist!\")"
      ],
      "metadata": {
        "colab": {
          "base_uri": "https://localhost:8080/"
        },
        "id": "dHCnmQ0ogYt8",
        "outputId": "5807164c-131b-41d7-ff42-26120118a47b"
      },
      "execution_count": 23,
      "outputs": [
        {
          "output_type": "stream",
          "name": "stdout",
          "text": [
            "Hello, this is VRINDA.\n",
            "Appended text.\n",
            "VRINDA.\n",
            "VRINDA.\n"
          ]
        }
      ]
    },
    {
      "cell_type": "code",
      "source": [
        "# 14. Log both informational and error messages\n",
        "logging.basicConfig(filename=\"app.log\", level=logging.INFO)\n",
        "logging.info(\"Application started.\")\n",
        "try:\n",
        "    result = 1 / 0\n",
        "except ZeroDivisionError:\n",
        "    logging.error(\"ZeroDivisionError occurred.\")"
      ],
      "metadata": {
        "colab": {
          "base_uri": "https://localhost:8080/"
        },
        "id": "qoOuqDdCgYdT",
        "outputId": "8dd98f98-0dc2-4674-9bfa-782783375864"
      },
      "execution_count": 24,
      "outputs": [
        {
          "output_type": "stream",
          "name": "stderr",
          "text": [
            "ERROR:root:ZeroDivisionError occurred.\n"
          ]
        }
      ]
    },
    {
      "cell_type": "code",
      "source": [
        "# 15. Print file contents and handle empty file\n",
        "filename = \"example.txt\"\n",
        "if os.path.getsize(filename) > 0:\n",
        "    with open(filename, \"r\") as file:\n",
        "        print(file.read())\n",
        "else:\n",
        "    print(\"The file is empty!\")"
      ],
      "metadata": {
        "colab": {
          "base_uri": "https://localhost:8080/"
        },
        "id": "Uv4qQYzzgvbi",
        "outputId": "eff73d62-2b97-40f2-a076-7cc03b2bd588"
      },
      "execution_count": 26,
      "outputs": [
        {
          "output_type": "stream",
          "name": "stdout",
          "text": [
            "Hello, this is VRINDA.\n",
            "Appended text.\n",
            "VRINDA.\n",
            "VRINDA.\n"
          ]
        }
      ]
    },
    {
      "cell_type": "code",
      "source": [
        "!pip install memory_profiler"
      ],
      "metadata": {
        "colab": {
          "base_uri": "https://localhost:8080/"
        },
        "id": "fa4g7Xx0gvX8",
        "outputId": "aa39719e-eb82-468d-d6b1-96b8919c2b8f"
      },
      "execution_count": 28,
      "outputs": [
        {
          "output_type": "stream",
          "name": "stdout",
          "text": [
            "Collecting memory_profiler\n",
            "  Downloading memory_profiler-0.61.0-py3-none-any.whl.metadata (20 kB)\n",
            "Requirement already satisfied: psutil in /usr/local/lib/python3.11/dist-packages (from memory_profiler) (5.9.5)\n",
            "Downloading memory_profiler-0.61.0-py3-none-any.whl (31 kB)\n",
            "Installing collected packages: memory_profiler\n",
            "Successfully installed memory_profiler-0.61.0\n"
          ]
        }
      ]
    },
    {
      "cell_type": "code",
      "source": [
        "# 16. Memory profiling\n",
        "from memory_profiler import profile\n",
        "@profile\n",
        "def memory_usage():\n",
        "    lst = [i for i in range(20)]\n",
        "    return lst\n",
        "memory_usage()"
      ],
      "metadata": {
        "colab": {
          "base_uri": "https://localhost:8080/"
        },
        "id": "KgaSzU5WgvSK",
        "outputId": "6631f11d-4a53-4687-b480-c9ee3ba3dd77"
      },
      "execution_count": 32,
      "outputs": [
        {
          "output_type": "stream",
          "name": "stdout",
          "text": [
            "ERROR: Could not find file <ipython-input-32-2da3ca666e10>\n",
            "NOTE: %mprun can only be used on functions defined in physical files, and not in the IPython environment.\n"
          ]
        },
        {
          "output_type": "execute_result",
          "data": {
            "text/plain": [
              "[0, 1, 2, 3, 4, 5, 6, 7, 8, 9, 10, 11, 12, 13, 14, 15, 16, 17, 18, 19]"
            ]
          },
          "metadata": {},
          "execution_count": 32
        }
      ]
    },
    {
      "cell_type": "code",
      "source": [
        "# 17. Write numbers to a file\n",
        "with open(\"numbers.txt\", \"w\") as file:\n",
        "    for i in range(1, 11):\n",
        "        file.write(f\"{i}\\n\")"
      ],
      "metadata": {
        "id": "WkL0KsU2gvOd"
      },
      "execution_count": 34,
      "outputs": []
    },
    {
      "cell_type": "code",
      "source": [
        "# 18. Logging with rotation\n",
        "from logging.handlers import RotatingFileHandler\n",
        "handler = RotatingFileHandler(\"rotating.log\", maxBytes=1024 * 1024, backupCount=3)\n",
        "logger = logging.getLogger(\"RotatingLogger\")\n",
        "logger.setLevel(logging.INFO)\n",
        "logger.addHandler(handler)\n",
        "logger.info(\"This is a rotating log file.\")"
      ],
      "metadata": {
        "colab": {
          "base_uri": "https://localhost:8080/"
        },
        "id": "xO5Q6RP6e8w9",
        "outputId": "bbf7ef1f-a22a-4977-e778-e6656d3ff800"
      },
      "execution_count": 35,
      "outputs": [
        {
          "output_type": "stream",
          "name": "stderr",
          "text": [
            "INFO:RotatingLogger:This is a rotating log file.\n"
          ]
        }
      ]
    },
    {
      "cell_type": "code",
      "source": [
        "# 19. Handle IndexError and KeyError\n",
        "try:\n",
        "    lst = [1, 2, 3]\n",
        "    print(lst[5])\n",
        "except IndexError:\n",
        "    print(\"Index out of range!\")\n",
        "\n",
        "try:\n",
        "    my_dict = {\"a\": 1}\n",
        "    print(my_dict[\"b\"])\n",
        "except KeyError:\n",
        "    print(\"Key does not exist!\")"
      ],
      "metadata": {
        "colab": {
          "base_uri": "https://localhost:8080/"
        },
        "id": "pD6s5MKue834",
        "outputId": "6da51811-9669-4f8f-da74-c2514add8af0"
      },
      "execution_count": 36,
      "outputs": [
        {
          "output_type": "stream",
          "name": "stdout",
          "text": [
            "Index out of range!\n",
            "Key does not exist!\n"
          ]
        }
      ]
    },
    {
      "cell_type": "code",
      "source": [
        "# 20. Open and read a file using a context manager\n",
        "with open(\"example.txt\", \"r\") as file:\n",
        "    content = file.read()\n",
        "print(content)"
      ],
      "metadata": {
        "colab": {
          "base_uri": "https://localhost:8080/"
        },
        "id": "hby7DlI2hqfQ",
        "outputId": "2af245a3-34ff-40e6-a2a3-bc707fc10b31"
      },
      "execution_count": 37,
      "outputs": [
        {
          "output_type": "stream",
          "name": "stdout",
          "text": [
            "Hello, this is VRINDA.\n",
            "Appended text.\n",
            "VRINDA.\n",
            "VRINDA.\n"
          ]
        }
      ]
    },
    {
      "cell_type": "code",
      "source": [
        "# 21. Count occurrences of a word in a file\n",
        "word_to_count = \"this\"\n",
        "with open(\"example.txt\", \"r\") as file:\n",
        "    text = file.read()\n",
        "    count = text.lower().split().count(word_to_count)\n",
        "print(f\"The word '{word_to_count}' appears {count} times.\")"
      ],
      "metadata": {
        "colab": {
          "base_uri": "https://localhost:8080/"
        },
        "id": "oDyYtr-Uh2zq",
        "outputId": "a4fedc31-5597-49de-d204-2ce2c4dec182"
      },
      "execution_count": 40,
      "outputs": [
        {
          "output_type": "stream",
          "name": "stdout",
          "text": [
            "The word 'this' appears 1 times.\n"
          ]
        }
      ]
    },
    {
      "cell_type": "code",
      "source": [
        "# 22. Check if a file is empty before reading\n",
        "filename = \"example.txt\"\n",
        "if os.stat(filename).st_size == 0:\n",
        "    print(\"File is empty.\")\n",
        "else:\n",
        "    with open(filename, \"r\") as file:\n",
        "        print(file.read())"
      ],
      "metadata": {
        "colab": {
          "base_uri": "https://localhost:8080/"
        },
        "id": "AhEOL3Qah2oV",
        "outputId": "965cab63-c992-4aa3-f10c-c6a8b5991092"
      },
      "execution_count": 41,
      "outputs": [
        {
          "output_type": "stream",
          "name": "stdout",
          "text": [
            "Hello, this is VRINDA.\n",
            "Appended text.\n",
            "VRINDA.\n",
            "VRINDA.\n"
          ]
        }
      ]
    },
    {
      "cell_type": "code",
      "source": [
        "# 23. Log an error when file handling fails\n",
        "try:\n",
        "    with open(\"example.txt\", \"r\") as file:\n",
        "        content = file.read()\n",
        "except FileNotFoundError as e:\n",
        "    logging.error(\"File handling error: %s\", str(e))\n"
      ],
      "metadata": {
        "id": "VIkzKiX1hqbg"
      },
      "execution_count": 44,
      "outputs": []
    }
  ]
}